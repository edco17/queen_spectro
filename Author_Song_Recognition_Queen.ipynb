{
 "cells": [
  {
   "cell_type": "markdown",
   "metadata": {},
   "source": [
    "# Reconocimiento de Autores Canciones de Queen "
   ]
  },
  {
   "cell_type": "markdown",
   "metadata": {},
   "source": [
    "## Librerías"
   ]
  },
  {
   "cell_type": "code",
   "execution_count": 1,
   "metadata": {},
   "outputs": [],
   "source": [
    "import os\n",
    "import glob\n",
    "import librosa, librosa.display\n",
    "import matplotlib.pyplot as plt\n",
    "import numpy as np\n",
    "from PIL import Image\n",
    "from sklearn.model_selection import train_test_split\n",
    "import pandas as pd\n",
    "import plotly.graph_objects as go\n",
    "import skimage.io\n",
    "import cv2\n",
    "from tqdm import tqdm\n",
    "import warnings\n",
    "warnings.filterwarnings('ignore')\n",
    "from tensorflow.keras.utils import to_categorical\n",
    "import tensorflow as tf\n",
    "from tensorflow.keras.models import Sequential\n",
    "from tensorflow.keras.layers import Dense, Conv2D, MaxPool2D, Dropout, InputLayer, Flatten, LSTM, TimeDistributed\n",
    "from tensorflow.keras.optimizers import Adam\n",
    "from tensorflow.keras.losses import CategoricalCrossentropy\n",
    "from keras import backend as K\n",
    "from sklearn.metrics import classification_report\n",
    "K.clear_session()\n",
    "physical_devices = tf.config.list_physical_devices('GPU')\n",
    "try:\n",
    "    tf.config.experimental.set_memory_growth(physical_devices[0], True)\n",
    "except:\n",
    "    print('Hola')"
   ]
  },
  {
   "cell_type": "markdown",
   "metadata": {},
   "source": [
    "## Data"
   ]
  },
  {
   "cell_type": "code",
   "execution_count": 2,
   "metadata": {},
   "outputs": [],
   "source": [
    "# white noise\n",
    "#bg, sr = librosa.load('./Audio/WhiteNoise/whiteNoise.WAV', sr=None)"
   ]
  },
  {
   "cell_type": "markdown",
   "metadata": {},
   "source": [
    "## Funciones"
   ]
  },
  {
   "cell_type": "code",
   "execution_count": 3,
   "metadata": {},
   "outputs": [],
   "source": [
    "## Mueve el tiempo de incio y fin de una cación, este agrega un ruido casi nulo a la canción\n",
    "def time_shift(wav, inf_limit = -990000, sup_limit = 990000):\n",
    "    \"\"\"time_shift(wav, inf_limit = -990000, sup_limit = 990000)-> np.array\n",
    "    La función regresa un array de la canción pero con un desplazamiento al inicio o final\n",
    "    \"\"\"\n",
    "    ## time shiftting\n",
    "    ## random start\n",
    "    start_ = int(np.random.uniform(inf_limit,sup_limit))\n",
    "    ## si es mayor igual a 0 se agrega un ruido muy bajo al final\n",
    "    if start_ >= 0:\n",
    "        wav_time_shift = np.r_[wav[start_:], np.random.uniform(-0.001,-0.001, start_)]\n",
    "    ## en otro caso se agrega ruido al principio\n",
    "    else:\n",
    "        wav_time_shift = np.r_[np.random.uniform(-0.0001,0.0001, -start_), wav[:start_]]\n",
    "    \n",
    "    return wav_time_shift"
   ]
  },
  {
   "cell_type": "code",
   "execution_count": 4,
   "metadata": {},
   "outputs": [],
   "source": [
    "def speed_tune(wav):\n",
    "    \"\"\"speed_tune(wav)-> np.array\n",
    "    La función regresa un array con la canción reducida o alargada, esto para modificar el tiempo de duración\n",
    "    y la velocidad de la canción.\n",
    "    \"\"\"\n",
    "    ## speed tuning\n",
    "    ## valor aleatorio para acortar o alargar canción \n",
    "    speed_rate = np.random.uniform(0.95,1.05)\n",
    "    ## resize de la canción\n",
    "    wav_speed_tune = cv2.resize(wav, (1, int(len(wav) * speed_rate))).squeeze()\n",
    "    \n",
    "    return wav_speed_tune"
   ]
  },
  {
   "cell_type": "code",
   "execution_count": 5,
   "metadata": {},
   "outputs": [],
   "source": [
    "def white_noise(wav):\n",
    "    \"\"\"white_noise(wav)-> np.array\n",
    "    A toda la canción le agrega un ruido blanco de fondo\n",
    "    \"\"\"\n",
    "    ## white noise background\n",
    "    start_ = np.random.randint(bg.shape[0]-len(wav))\n",
    "    bg_slice = bg[start_ : start_+len(wav)]\n",
    "    wav_with_bg = wav * np.random.uniform(0.8, 1.2) + bg_slice * np.random.uniform(0, 0.1)\n",
    "    \n",
    "    return wav_with_bg"
   ]
  },
  {
   "cell_type": "code",
   "execution_count": 6,
   "metadata": {},
   "outputs": [],
   "source": [
    "def DataAugmentation(wav_file):\n",
    "    \"\"\"DataAugmentation(wav_file)->np.array\n",
    "    La funcíon aplica los distinto de Data Augmentation como time shiftting, speed tune y white noise.\n",
    "    Se aplican 15 filtros de time shiftting y a estos 10 se le aplica speed tune y white noise regresando\n",
    "    64 registros.\n",
    "    \"\"\"\n",
    "    ## wav file array and sample rate CD\n",
    "    wav, sr = librosa.load(wav_file, sr=44100)\n",
    "    \n",
    "    ## time shift\n",
    "    wav_time_shift = [time_shift(wav) for i in range(0, 15)]\n",
    "    wav_time_shift.append(wav)\n",
    "    \n",
    "    ## speed tune\n",
    "    wav_speed = [speed_tune(wav_i) for wav_i in wav_time_shift] + wav_time_shift\n",
    "    del wav_time_shift\n",
    "\n",
    "    ## white noise\n",
    "    wav_white_noise = [white_noise(wav_i) for wav_i in wav_speed] + wav_speed\n",
    "    del wav_speed\n",
    "\n",
    "    return wav_white_noise"
   ]
  },
  {
   "cell_type": "code",
   "execution_count": 7,
   "metadata": {},
   "outputs": [],
   "source": [
    "def mel_spectrogram_image(signal, output_file):\n",
    "    \"\"\"mel_spectrogram_image(signal, output_file)->.png\n",
    "    La función recibe la señal de una canción y guarda en la carpeta de salida \n",
    "    el mel espectrograma de dicha cancion. \n",
    "    \"\"\"\n",
    "    # mel espectrograma\n",
    "    S = librosa.feature.melspectrogram(signal, sr=44100, n_fft=2048, hop_length=512)\n",
    "\n",
    "    # escalamiento de los valores\n",
    "    log_S = librosa.amplitude_to_db(S, ref=np.max)\n",
    "    \n",
    "    ## salvando espectrograma\n",
    "    skimage.io.imsave(output_file, log_S)"
   ]
  },
  {
   "cell_type": "markdown",
   "metadata": {},
   "source": [
    "## Preprocesamiento"
   ]
  },
  {
   "cell_type": "markdown",
   "metadata": {},
   "source": [
    "### Data Augmentation and MEL Spectrogram"
   ]
  },
  {
   "cell_type": "code",
   "execution_count": 8,
   "metadata": {},
   "outputs": [],
   "source": [
    "### generating and saving spectrograms train\n",
    "#directory = \"./Audio/\"\n",
    "## integrantes\n",
    "#for artist in ['Brian', 'Freddie', 'John', 'Roger']:\n",
    "#    ## directorio de canciones\n",
    "#    filenames = os.listdir(os.path.join(directory,f\"{artist}\"))\n",
    "#    counter = 0\n",
    "#    ## canciones\n",
    "#    for f in tqdm(filenames):\n",
    "#        file_name = directory + artist + '/' + f\n",
    "#        ## aplicación de data augmentation\n",
    "#        wav_sig = DataAugmentation(file_name)\n",
    "#        counter_2 = 0\n",
    "#        for sig in wav_sig:\n",
    "#            output_filename = \"./Spectrograms/\" + artist + '/' + artist + str(counter)+ str(counter_2) + '.png'\n",
    "#            ## guardado de mel spectrogram\n",
    "#            mel_spectrogram_image(sig, output_filename)\n",
    "#            counter_2 += 1\n",
    "#        counter += 1\"\"\""
   ]
  },
  {
   "cell_type": "code",
   "execution_count": 9,
   "metadata": {},
   "outputs": [],
   "source": [
    "## Mel Spectrogram Test\n",
    "#directory = \"./Audio/\"\n",
    "## artistas\n",
    "#for artist in ['Brian_Test', 'Freddie_Test', 'John_Test', 'Roger_Test']:\n",
    "#    filenames = os.listdir(os.path.join(directory,f\"{artist}\"))\n",
    "#    counter = 0\n",
    "#    # canciones\n",
    "#    for f in tqdm(filenames):\n",
    "#        file_name = directory + artist + '/' + f\n",
    "#        ## señal de canción\n",
    "#        wav, sr = librosa.load(file_name, sr=44100)\n",
    "#        ## conteo de canción\n",
    "#        output_filename = \"./Spectrograms/\" + artist + '/' + artist+ str(counter) + '.png'\n",
    "#        ## creación de mel spectrogram\n",
    "#        mel_spectrogram_image(wav, output_filename)\n",
    "#        counter+=1"
   ]
  },
  {
   "cell_type": "markdown",
   "metadata": {},
   "source": [
    "### Importar Imagenes"
   ]
  },
  {
   "cell_type": "code",
   "execution_count": 10,
   "metadata": {},
   "outputs": [
    {
     "name": "stderr",
     "output_type": "stream",
     "text": [
      "100%|██████████| 2398/2398 [01:11<00:00, 33.43it/s]\n",
      "100%|██████████| 2732/2732 [01:14<00:00, 36.88it/s]\n",
      "100%|██████████| 1162/1162 [00:38<00:00, 29.82it/s]\n",
      "100%|██████████| 1226/1226 [00:38<00:00, 31.70it/s]\n"
     ]
    }
   ],
   "source": [
    "## size images\n",
    "size = 230\n",
    "# creating complete array of spectrograms\n",
    "spectrograms_train = []\n",
    "artists_train = []\n",
    "for artist in ['Brian', 'Freddie', 'John', 'Roger']:\n",
    "    counter = 0\n",
    "    for spectro in tqdm(os.listdir(f\"./Spectrograms/{artist}\")):\n",
    "        ## resize de imagen\n",
    "        spectrograms_train.append(np.array(cv2.resize(cv2.imread(f\"./Spectrograms/{artist}/\" + spectro),\n",
    "                                                dsize=(size,size)))/255)\n",
    "        ## labels\n",
    "        artists_train.append(artist)\n",
    "        counter+=1\n",
    "        \n",
    "spectrograms_train = np.array(spectrograms_train)"
   ]
  },
  {
   "cell_type": "code",
   "execution_count": 11,
   "metadata": {},
   "outputs": [
    {
     "data": {
      "image/png": "[encoded data removed]",
      "text/plain": [
       "<Figure size 504x864 with 1 Axes>"
      ]
     },
     "metadata": {
      "needs_background": "light"
     },
     "output_type": "display_data"
    }
   ],
   "source": [
    "plt.figure(figsize=(7,12))\n",
    "#plt.imshow(spectrograms_train[15])\n",
    "#plt.imshow(spectrograms_train[5236])\n",
    "#plt.imshow(spectrograms_train[3236])\n",
    "plt.imshow(spectrograms_train[1236])\n",
    "plt.show()"
   ]
  },
  {
   "cell_type": "code",
   "execution_count": 12,
   "metadata": {},
   "outputs": [
    {
     "name": "stderr",
     "output_type": "stream",
     "text": [
      "100%|██████████| 10/10 [00:00<00:00, 58.41it/s]\n",
      "100%|██████████| 11/11 [00:00<00:00, 42.05it/s]\n",
      "100%|██████████| 4/4 [00:00<00:00, 44.02it/s]\n",
      "100%|██████████| 5/5 [00:00<00:00, 36.97it/s]\n"
     ]
    }
   ],
   "source": [
    "## creating complete array of spectrograms\n",
    "spectrograms_test = []\n",
    "artists_test = []\n",
    "for artist in ['Brian_Test', 'Freddie_Test', 'John_Test', 'Roger_Test']:\n",
    "    for spectro in tqdm(os.listdir(f\"./Spectrograms/{artist}\")):\n",
    "        ## resize de imagen\n",
    "        spectrograms_test.append(np.array(cv2.resize(cv2.imread(f\"./Spectrograms/{artist}/\" + spectro),\n",
    "                                                dsize=(size,size)))/255)\n",
    "        ## labels\n",
    "        artists_test.append(artist[:-5])\n",
    "        \n",
    "spectrograms_test = np.array(spectrograms_test)"
   ]
  },
  {
   "cell_type": "code",
   "execution_count": 13,
   "metadata": {},
   "outputs": [
    {
     "name": "stdout",
     "output_type": "stream",
     "text": [
      "Mel Spectrogram\n"
     ]
    },
    {
     "data": {
      "image/png": "[encoded data removed]",
      "text/plain": [
       "<Figure size 432x288 with 1 Axes>"
      ]
     },
     "metadata": {
      "needs_background": "light"
     },
     "output_type": "display_data"
    }
   ],
   "source": [
    "print('Mel Spectrogram')\n",
    "plt.imshow(spectrograms_train[0])\n",
    "plt.show()"
   ]
  },
  {
   "cell_type": "code",
   "execution_count": 14,
   "metadata": {},
   "outputs": [
    {
     "data": {
      "text/plain": [
       "Freddie    2732\n",
       "Brian      2398\n",
       "Roger      1226\n",
       "John       1162\n",
       "dtype: int64"
      ]
     },
     "execution_count": 14,
     "metadata": {},
     "output_type": "execute_result"
    }
   ],
   "source": [
    "##\n",
    "pd.Series(artists_train).value_counts()"
   ]
  },
  {
   "cell_type": "markdown",
   "metadata": {},
   "source": [
    "### One hot encoding"
   ]
  },
  {
   "cell_type": "code",
   "execution_count": 15,
   "metadata": {},
   "outputs": [],
   "source": [
    "## mapping\n",
    "artist_map = {'Brian':0, 'Freddie':1, 'John':2, 'Roger':3}\n",
    "## TRAIN\n",
    "artist_categorical_train = to_categorical(pd.Series(artists_train).map(artist_map))\n",
    "del artists_train\n",
    "## Test\n",
    "artist_categorical_test = to_categorical(pd.Series(artists_test).map(artist_map))\n",
    "del artists_test"
   ]
  },
  {
   "cell_type": "markdown",
   "metadata": {},
   "source": [
    "## Modelo Convolucional"
   ]
  },
  {
   "cell_type": "code",
   "execution_count": 16,
   "metadata": {},
   "outputs": [
    {
     "name": "stdout",
     "output_type": "stream",
     "text": [
      "Model: \"sequential\"\n",
      "_________________________________________________________________\n",
      "Layer (type)                 Output Shape              Param #   \n",
      "=================================================================\n",
      "conv2d (Conv2D)              (None, 229, 229, 12)      156       \n",
      "_________________________________________________________________\n",
      "max_pooling2d (MaxPooling2D) (None, 114, 114, 12)      0         \n",
      "_________________________________________________________________\n",
      "conv2d_1 (Conv2D)            (None, 113, 113, 5)       245       \n",
      "_________________________________________________________________\n",
      "max_pooling2d_1 (MaxPooling2 (None, 57, 57, 5)         0         \n",
      "_________________________________________________________________\n",
      "flatten (Flatten)            (None, 16245)             0         \n",
      "_________________________________________________________________\n",
      "dense (Dense)                (None, 256)               4158976   \n",
      "_________________________________________________________________\n",
      "dropout (Dropout)            (None, 256)               0         \n",
      "_________________________________________________________________\n",
      "dense_1 (Dense)              (None, 64)                16448     \n",
      "_________________________________________________________________\n",
      "dropout_1 (Dropout)          (None, 64)                0         \n",
      "_________________________________________________________________\n",
      "dense_2 (Dense)              (None, 4)                 260       \n",
      "=================================================================\n",
      "Total params: 4,176,085\n",
      "Trainable params: 4,176,085\n",
      "Non-trainable params: 0\n",
      "_________________________________________________________________\n"
     ]
    }
   ],
   "source": [
    "## architecture\n",
    "model = Sequential()\n",
    "model.add(InputLayer(input_shape=(size,size,3)))\n",
    "model.add(Conv2D(filters = 12, kernel_size = (2,2),\n",
    "                                 padding = 'valid', strides = 1, activation = 'relu'))\n",
    "model.add(MaxPool2D(pool_size = (3,3), strides=(2,2)))\n",
    "model.add(Conv2D(filters = 5, kernel_size = (2,2), padding = 'valid', strides = 1, activation = 'relu'))\n",
    "model.add(MaxPool2D(pool_size = (3,3), strides=(2,2), padding=\"same\"))\n",
    "model.add(Flatten())\n",
    "model.add(Dense(256, activation = 'relu', kernel_regularizer = tf.keras.regularizers.l2()))\n",
    "model.add(Dropout(.5))\n",
    "model.add(Dense(64, activation = 'relu', kernel_regularizer = tf.keras.regularizers.l2()))\n",
    "model.add(Dropout(.3))\n",
    "model.add(Dense(4, activation = 'softmax'))\n",
    "\n",
    "model.summary()"
   ]
  },
  {
   "cell_type": "code",
   "execution_count": 17,
   "metadata": {},
   "outputs": [
    {
     "name": "stdout",
     "output_type": "stream",
     "text": [
      "Epoch 1/140\n",
      "118/118 [==============================] - 3s 30ms/step - loss: 7.0631 - accuracy: 0.3545 - val_loss: 6.7211 - val_accuracy: 0.5000\n",
      "Epoch 2/140\n",
      "118/118 [==============================] - 3s 26ms/step - loss: 6.4642 - accuracy: 0.3831 - val_loss: 6.1830 - val_accuracy: 0.5333\n",
      "Epoch 3/140\n",
      "118/118 [==============================] - 3s 24ms/step - loss: 5.9533 - accuracy: 0.4004 - val_loss: 5.7242 - val_accuracy: 0.4333\n",
      "Epoch 4/140\n",
      "118/118 [==============================] - 3s 24ms/step - loss: 5.5039 - accuracy: 0.4227 - val_loss: 5.3102 - val_accuracy: 0.4667\n",
      "Epoch 5/140\n",
      "118/118 [==============================] - 3s 24ms/step - loss: 5.1197 - accuracy: 0.4331 - val_loss: 4.9696 - val_accuracy: 0.5333\n",
      "Epoch 6/140\n",
      "118/118 [==============================] - 3s 24ms/step - loss: 4.7865 - accuracy: 0.4528 - val_loss: 4.6652 - val_accuracy: 0.5000\n",
      "Epoch 7/140\n",
      "118/118 [==============================] - 3s 24ms/step - loss: 4.4905 - accuracy: 0.4649 - val_loss: 4.3960 - val_accuracy: 0.5000\n",
      "Epoch 8/140\n",
      "118/118 [==============================] - 3s 24ms/step - loss: 4.2311 - accuracy: 0.4862 - val_loss: 4.1684 - val_accuracy: 0.5333\n",
      "Epoch 9/140\n",
      "118/118 [==============================] - 3s 24ms/step - loss: 4.0015 - accuracy: 0.5144 - val_loss: 3.9709 - val_accuracy: 0.5333\n",
      "Epoch 10/140\n",
      "118/118 [==============================] - 3s 24ms/step - loss: 3.8072 - accuracy: 0.5196 - val_loss: 3.7985 - val_accuracy: 0.5000\n",
      "Epoch 11/140\n",
      "118/118 [==============================] - 3s 24ms/step - loss: 3.6319 - accuracy: 0.5318 - val_loss: 3.6422 - val_accuracy: 0.5000\n",
      "Epoch 12/140\n",
      "118/118 [==============================] - 3s 24ms/step - loss: 3.4748 - accuracy: 0.5552 - val_loss: 3.5231 - val_accuracy: 0.4667\n",
      "Epoch 13/140\n",
      "118/118 [==============================] - 3s 24ms/step - loss: 3.3323 - accuracy: 0.5728 - val_loss: 3.4006 - val_accuracy: 0.5000\n",
      "Epoch 14/140\n",
      "118/118 [==============================] - 3s 27ms/step - loss: 3.2132 - accuracy: 0.5811 - val_loss: 3.2923 - val_accuracy: 0.5667\n",
      "Epoch 15/140\n",
      "118/118 [==============================] - 3s 24ms/step - loss: 3.0921 - accuracy: 0.6120 - val_loss: 3.2200 - val_accuracy: 0.4667\n",
      "Epoch 16/140\n",
      "118/118 [==============================] - 3s 28ms/step - loss: 2.9941 - accuracy: 0.6184 - val_loss: 3.1383 - val_accuracy: 0.6667\n",
      "Epoch 17/140\n",
      "118/118 [==============================] - 3s 24ms/step - loss: 2.9040 - accuracy: 0.6330 - val_loss: 3.0764 - val_accuracy: 0.5333\n",
      "Epoch 18/140\n",
      "118/118 [==============================] - 3s 24ms/step - loss: 2.8138 - accuracy: 0.6524 - val_loss: 3.0053 - val_accuracy: 0.6667\n",
      "Epoch 19/140\n",
      "118/118 [==============================] - 3s 24ms/step - loss: 2.7381 - accuracy: 0.6671 - val_loss: 2.9794 - val_accuracy: 0.5000\n",
      "Epoch 20/140\n",
      "118/118 [==============================] - 3s 24ms/step - loss: 2.6678 - accuracy: 0.6841 - val_loss: 2.9236 - val_accuracy: 0.5333\n",
      "Epoch 21/140\n",
      "118/118 [==============================] - 3s 24ms/step - loss: 2.6032 - accuracy: 0.6931 - val_loss: 2.8861 - val_accuracy: 0.5000\n",
      "Epoch 22/140\n",
      "118/118 [==============================] - 3s 24ms/step - loss: 2.5410 - accuracy: 0.7122 - val_loss: 2.8309 - val_accuracy: 0.6000\n",
      "Epoch 23/140\n",
      "118/118 [==============================] - 3s 24ms/step - loss: 2.4800 - accuracy: 0.7217 - val_loss: 2.8013 - val_accuracy: 0.5000\n",
      "Epoch 24/140\n",
      "118/118 [==============================] - 3s 24ms/step - loss: 2.4184 - accuracy: 0.7382 - val_loss: 2.7759 - val_accuracy: 0.4667\n",
      "Epoch 25/140\n",
      "118/118 [==============================] - 3s 25ms/step - loss: 2.3756 - accuracy: 0.7473 - val_loss: 2.7289 - val_accuracy: 0.5333\n",
      "Epoch 26/140\n",
      "118/118 [==============================] - 3s 24ms/step - loss: 2.3113 - accuracy: 0.7682 - val_loss: 2.7025 - val_accuracy: 0.4667\n",
      "Epoch 27/140\n",
      "118/118 [==============================] - 3s 24ms/step - loss: 2.2693 - accuracy: 0.7717 - val_loss: 2.7279 - val_accuracy: 0.5000\n",
      "Epoch 28/140\n",
      "118/118 [==============================] - 3s 24ms/step - loss: 2.2175 - accuracy: 0.7841 - val_loss: 2.6621 - val_accuracy: 0.5333\n",
      "Epoch 29/140\n",
      "118/118 [==============================] - 3s 24ms/step - loss: 2.1705 - accuracy: 0.7972 - val_loss: 2.6751 - val_accuracy: 0.5000\n",
      "Epoch 30/140\n",
      "118/118 [==============================] - 3s 25ms/step - loss: 2.1339 - accuracy: 0.7997 - val_loss: 2.6370 - val_accuracy: 0.5000\n",
      "Epoch 31/140\n",
      "118/118 [==============================] - 3s 24ms/step - loss: 2.0931 - accuracy: 0.8099 - val_loss: 2.6151 - val_accuracy: 0.5000\n"
     ]
    }
   ],
   "source": [
    "## early stopping y checkpoint\n",
    "from tensorflow.keras.callbacks import EarlyStopping\n",
    "from tensorflow.keras.callbacks import ModelCheckpoint\n",
    "\n",
    "early = EarlyStopping(monitor = 'val_accuracy', min_delta = 3e-2, patience = 15)\n",
    "check_path = \"modelCNN.hdf5\"\n",
    "checkpoint = ModelCheckpoint(filepath=check_path, monitor = 'val_accuracy', save_best_only = True,\n",
    "                             save_weights_only = False, mode = 'max', save_freq = \"epoch\")\n",
    "\n",
    "## compiling\n",
    "model.compile(optimizer=Adam(0.00001), loss=CategoricalCrossentropy(), metrics=['accuracy'])\n",
    "history = model.fit(spectrograms_train.reshape(-1,size,size,3), artist_categorical_train, epochs = 140, batch_size = 64,\n",
    "                    validation_data = (spectrograms_test.reshape(-1,size,size,3), artist_categorical_test), callbacks=[early, checkpoint])\n",
    "\n",
    "model.load_weights(check_path)"
   ]
  },
  {
   "cell_type": "code",
   "execution_count": 21,
   "metadata": {},
   "outputs": [
    {
     "data": {
      "application/vnd.plotly.v1+json": {
       "config": {
        "plotlyServerURL": "https://plot.ly"
       },
       "data": [
        {
         "mode": "lines",
         "name": "train_loss",
         "type": "scatter",
         "x": [
          0,
          1,
          2,
          3,
          4,
          5,
          6,
          7,
          8,
          9,
          10,
          11,
          12,
          13,
          14,
          15,
          16,
          17,
          18,
          19,
          20,
          21,
          22,
          23,
          24,
          25,
          26,
          27,
          28,
          29,
          30
         ],
         "y": [
          7.063061237335205,
          6.464217662811279,
          5.953278064727783,
          5.503936767578125,
          5.119740962982178,
          4.786487102508545,
          4.490524768829346,
          4.231129169464111,
          4.00148868560791,
          3.807232618331909,
          3.6319172382354736,
          3.474769353866577,
          3.3323161602020264,
          3.213172197341919,
          3.092074394226074,
          2.994136095046997,
          2.9039652347564697,
          2.8138389587402344,
          2.7381460666656494,
          2.6677775382995605,
          2.6032025814056396,
          2.541002035140991,
          2.4799511432647705,
          2.418389320373535,
          2.3755764961242676,
          2.3112781047821045,
          2.2692525386810303,
          2.217529535293579,
          2.1704678535461426,
          2.1339352130889893,
          2.093134880065918
         ]
        },
        {
         "mode": "lines",
         "name": "val_loss",
         "type": "scatter",
         "x": [
          0,
          1,
          2,
          3,
          4,
          5,
          6,
          7,
          8,
          9,
          10,
          11,
          12,
          13,
          14,
          15,
          16,
          17,
          18,
          19,
          20,
          21,
          22,
          23,
          24,
          25,
          26,
          27,
          28,
          29,
          30
         ],
         "y": [
          6.721141338348389,
          6.1830339431762695,
          5.724231243133545,
          5.310221195220947,
          4.969552040100098,
          4.665159702301025,
          4.396031379699707,
          4.168429851531982,
          3.9708611965179443,
          3.798492908477783,
          3.6422266960144043,
          3.523125171661377,
          3.4005587100982666,
          3.2923190593719482,
          3.219996213912964,
          3.138291597366333,
          3.0764098167419434,
          3.005316734313965,
          2.979423761367798,
          2.923577308654785,
          2.8860538005828857,
          2.830939292907715,
          2.801332712173462,
          2.775876522064209,
          2.7289137840270996,
          2.702523708343506,
          2.7278974056243896,
          2.6620728969573975,
          2.675142765045166,
          2.636965036392212,
          2.615135908126831
         ]
        }
       ],
       "layout": {
        "shapes": [
         {
          "line": {
           "color": "green",
           "dash": "dash",
           "width": 3
          },
          "type": "line",
          "x0": 16,
          "x1": 16,
          "xref": "x",
          "y0": 0,
          "y1": 1,
          "yref": "y domain"
         }
        ],
        "template": {
         "data": {
          "bar": [
           {
            "error_x": {
             "color": "#2a3f5f"
            },
            "error_y": {
             "color": "#2a3f5f"
            },
            "marker": {
             "line": {
              "color": "#E5ECF6",
              "width": 0.5
             }
            },
            "type": "bar"
           }
          ],
          "barpolar": [
           {
            "marker": {
             "line": {
              "color": "#E5ECF6",
              "width": 0.5
             }
            },
            "type": "barpolar"
           }
          ],
          "carpet": [
           {
            "aaxis": {
             "endlinecolor": "#2a3f5f",
             "gridcolor": "white",
             "linecolor": "white",
             "minorgridcolor": "white",
             "startlinecolor": "#2a3f5f"
            },
            "baxis": {
             "endlinecolor": "#2a3f5f",
             "gridcolor": "white",
             "linecolor": "white",
             "minorgridcolor": "white",
             "startlinecolor": "#2a3f5f"
            },
            "type": "carpet"
           }
          ],
          "choropleth": [
           {
            "colorbar": {
             "outlinewidth": 0,
             "ticks": ""
            },
            "type": "choropleth"
           }
          ],
          "contour": [
           {
            "colorbar": {
             "outlinewidth": 0,
             "ticks": ""
            },
            "colorscale": [
             [
              0,
              "#0d0887"
             ],
             [
              0.1111111111111111,
              "#46039f"
             ],
             [
              0.2222222222222222,
              "#7201a8"
             ],
             [
              0.3333333333333333,
              "#9c179e"
             ],
             [
              0.4444444444444444,
              "#bd3786"
             ],
             [
              0.5555555555555556,
              "#d8576b"
             ],
             [
              0.6666666666666666,
              "#ed7953"
             ],
             [
              0.7777777777777778,
              "#fb9f3a"
             ],
             [
              0.8888888888888888,
              "#fdca26"
             ],
             [
              1,
              "#f0f921"
             ]
            ],
            "type": "contour"
           }
          ],
          "contourcarpet": [
           {
            "colorbar": {
             "outlinewidth": 0,
             "ticks": ""
            },
            "type": "contourcarpet"
           }
          ],
          "heatmap": [
           {
            "colorbar": {
             "outlinewidth": 0,
             "ticks": ""
            },
            "colorscale": [
             [
              0,
              "#0d0887"
             ],
             [
              0.1111111111111111,
              "#46039f"
             ],
             [
              0.2222222222222222,
              "#7201a8"
             ],
             [
              0.3333333333333333,
              "#9c179e"
             ],
             [
              0.4444444444444444,
              "#bd3786"
             ],
             [
              0.5555555555555556,
              "#d8576b"
             ],
             [
              0.6666666666666666,
              "#ed7953"
             ],
             [
              0.7777777777777778,
              "#fb9f3a"
             ],
             [
              0.8888888888888888,
              "#fdca26"
             ],
             [
              1,
              "#f0f921"
             ]
            ],
            "type": "heatmap"
           }
          ],
          "heatmapgl": [
           {
            "colorbar": {
             "outlinewidth": 0,
             "ticks": ""
            },
            "colorscale": [
             [
              0,
              "#0d0887"
             ],
             [
              0.1111111111111111,
              "#46039f"
             ],
             [
              0.2222222222222222,
              "#7201a8"
             ],
             [
              0.3333333333333333,
              "#9c179e"
             ],
             [
              0.4444444444444444,
              "#bd3786"
             ],
             [
              0.5555555555555556,
              "#d8576b"
             ],
             [
              0.6666666666666666,
              "#ed7953"
             ],
             [
              0.7777777777777778,
              "#fb9f3a"
             ],
             [
              0.8888888888888888,
              "#fdca26"
             ],
             [
              1,
              "#f0f921"
             ]
            ],
            "type": "heatmapgl"
           }
          ],
          "histogram": [
           {
            "marker": {
             "colorbar": {
              "outlinewidth": 0,
              "ticks": ""
             }
            },
            "type": "histogram"
           }
          ],
          "histogram2d": [
           {
            "colorbar": {
             "outlinewidth": 0,
             "ticks": ""
            },
            "colorscale": [
             [
              0,
              "#0d0887"
             ],
             [
              0.1111111111111111,
              "#46039f"
             ],
             [
              0.2222222222222222,
              "#7201a8"
             ],
             [
              0.3333333333333333,
              "#9c179e"
             ],
             [
              0.4444444444444444,
              "#bd3786"
             ],
             [
              0.5555555555555556,
              "#d8576b"
             ],
             [
              0.6666666666666666,
              "#ed7953"
             ],
             [
              0.7777777777777778,
              "#fb9f3a"
             ],
             [
              0.8888888888888888,
              "#fdca26"
             ],
             [
              1,
              "#f0f921"
             ]
            ],
            "type": "histogram2d"
           }
          ],
          "histogram2dcontour": [
           {
            "colorbar": {
             "outlinewidth": 0,
             "ticks": ""
            },
            "colorscale": [
             [
              0,
              "#0d0887"
             ],
             [
              0.1111111111111111,
              "#46039f"
             ],
             [
              0.2222222222222222,
              "#7201a8"
             ],
             [
              0.3333333333333333,
              "#9c179e"
             ],
             [
              0.4444444444444444,
              "#bd3786"
             ],
             [
              0.5555555555555556,
              "#d8576b"
             ],
             [
              0.6666666666666666,
              "#ed7953"
             ],
             [
              0.7777777777777778,
              "#fb9f3a"
             ],
             [
              0.8888888888888888,
              "#fdca26"
             ],
             [
              1,
              "#f0f921"
             ]
            ],
            "type": "histogram2dcontour"
           }
          ],
          "mesh3d": [
           {
            "colorbar": {
             "outlinewidth": 0,
             "ticks": ""
            },
            "type": "mesh3d"
           }
          ],
          "parcoords": [
           {
            "line": {
             "colorbar": {
              "outlinewidth": 0,
              "ticks": ""
             }
            },
            "type": "parcoords"
           }
          ],
          "pie": [
           {
            "automargin": true,
            "type": "pie"
           }
          ],
          "scatter": [
           {
            "marker": {
             "colorbar": {
              "outlinewidth": 0,
              "ticks": ""
             }
            },
            "type": "scatter"
           }
          ],
          "scatter3d": [
           {
            "line": {
             "colorbar": {
              "outlinewidth": 0,
              "ticks": ""
             }
            },
            "marker": {
             "colorbar": {
              "outlinewidth": 0,
              "ticks": ""
             }
            },
            "type": "scatter3d"
           }
          ],
          "scattercarpet": [
           {
            "marker": {
             "colorbar": {
              "outlinewidth": 0,
              "ticks": ""
             }
            },
            "type": "scattercarpet"
           }
          ],
          "scattergeo": [
           {
            "marker": {
             "colorbar": {
              "outlinewidth": 0,
              "ticks": ""
             }
            },
            "type": "scattergeo"
           }
          ],
          "scattergl": [
           {
            "marker": {
             "colorbar": {
              "outlinewidth": 0,
              "ticks": ""
             }
            },
            "type": "scattergl"
           }
          ],
          "scattermapbox": [
           {
            "marker": {
             "colorbar": {
              "outlinewidth": 0,
              "ticks": ""
             }
            },
            "type": "scattermapbox"
           }
          ],
          "scatterpolar": [
           {
            "marker": {
             "colorbar": {
              "outlinewidth": 0,
              "ticks": ""
             }
            },
            "type": "scatterpolar"
           }
          ],
          "scatterpolargl": [
           {
            "marker": {
             "colorbar": {
              "outlinewidth": 0,
              "ticks": ""
             }
            },
            "type": "scatterpolargl"
           }
          ],
          "scatterternary": [
           {
            "marker": {
             "colorbar": {
              "outlinewidth": 0,
              "ticks": ""
             }
            },
            "type": "scatterternary"
           }
          ],
          "surface": [
           {
            "colorbar": {
             "outlinewidth": 0,
             "ticks": ""
            },
            "colorscale": [
             [
              0,
              "#0d0887"
             ],
             [
              0.1111111111111111,
              "#46039f"
             ],
             [
              0.2222222222222222,
              "#7201a8"
             ],
             [
              0.3333333333333333,
              "#9c179e"
             ],
             [
              0.4444444444444444,
              "#bd3786"
             ],
             [
              0.5555555555555556,
              "#d8576b"
             ],
             [
              0.6666666666666666,
              "#ed7953"
             ],
             [
              0.7777777777777778,
              "#fb9f3a"
             ],
             [
              0.8888888888888888,
              "#fdca26"
             ],
             [
              1,
              "#f0f921"
             ]
            ],
            "type": "surface"
           }
          ],
          "table": [
           {
            "cells": {
             "fill": {
              "color": "#EBF0F8"
             },
             "line": {
              "color": "white"
             }
            },
            "header": {
             "fill": {
              "color": "#C8D4E3"
             },
             "line": {
              "color": "white"
             }
            },
            "type": "table"
           }
          ]
         },
         "layout": {
          "annotationdefaults": {
           "arrowcolor": "#2a3f5f",
           "arrowhead": 0,
           "arrowwidth": 1
          },
          "autotypenumbers": "strict",
          "coloraxis": {
           "colorbar": {
            "outlinewidth": 0,
            "ticks": ""
           }
          },
          "colorscale": {
           "diverging": [
            [
             0,
             "#8e0152"
            ],
            [
             0.1,
             "#c51b7d"
            ],
            [
             0.2,
             "#de77ae"
            ],
            [
             0.3,
             "#f1b6da"
            ],
            [
             0.4,
             "#fde0ef"
            ],
            [
             0.5,
             "#f7f7f7"
            ],
            [
             0.6,
             "#e6f5d0"
            ],
            [
             0.7,
             "#b8e186"
            ],
            [
             0.8,
             "#7fbc41"
            ],
            [
             0.9,
             "#4d9221"
            ],
            [
             1,
             "#276419"
            ]
           ],
           "sequential": [
            [
             0,
             "#0d0887"
            ],
            [
             0.1111111111111111,
             "#46039f"
            ],
            [
             0.2222222222222222,
             "#7201a8"
            ],
            [
             0.3333333333333333,
             "#9c179e"
            ],
            [
             0.4444444444444444,
             "#bd3786"
            ],
            [
             0.5555555555555556,
             "#d8576b"
            ],
            [
             0.6666666666666666,
             "#ed7953"
            ],
            [
             0.7777777777777778,
             "#fb9f3a"
            ],
            [
             0.8888888888888888,
             "#fdca26"
            ],
            [
             1,
             "#f0f921"
            ]
           ],
           "sequentialminus": [
            [
             0,
             "#0d0887"
            ],
            [
             0.1111111111111111,
             "#46039f"
            ],
            [
             0.2222222222222222,
             "#7201a8"
            ],
            [
             0.3333333333333333,
             "#9c179e"
            ],
            [
             0.4444444444444444,
             "#bd3786"
            ],
            [
             0.5555555555555556,
             "#d8576b"
            ],
            [
             0.6666666666666666,
             "#ed7953"
            ],
            [
             0.7777777777777778,
             "#fb9f3a"
            ],
            [
             0.8888888888888888,
             "#fdca26"
            ],
            [
             1,
             "#f0f921"
            ]
           ]
          },
          "colorway": [
           "#636efa",
           "#EF553B",
           "#00cc96",
           "#ab63fa",
           "#FFA15A",
           "#19d3f3",
           "#FF6692",
           "#B6E880",
           "#FF97FF",
           "#FECB52"
          ],
          "font": {
           "color": "#2a3f5f"
          },
          "geo": {
           "bgcolor": "white",
           "lakecolor": "white",
           "landcolor": "#E5ECF6",
           "showlakes": true,
           "showland": true,
           "subunitcolor": "white"
          },
          "hoverlabel": {
           "align": "left"
          },
          "hovermode": "closest",
          "mapbox": {
           "style": "light"
          },
          "paper_bgcolor": "white",
          "plot_bgcolor": "#E5ECF6",
          "polar": {
           "angularaxis": {
            "gridcolor": "white",
            "linecolor": "white",
            "ticks": ""
           },
           "bgcolor": "#E5ECF6",
           "radialaxis": {
            "gridcolor": "white",
            "linecolor": "white",
            "ticks": ""
           }
          },
          "scene": {
           "xaxis": {
            "backgroundcolor": "#E5ECF6",
            "gridcolor": "white",
            "gridwidth": 2,
            "linecolor": "white",
            "showbackground": true,
            "ticks": "",
            "zerolinecolor": "white"
           },
           "yaxis": {
            "backgroundcolor": "#E5ECF6",
            "gridcolor": "white",
            "gridwidth": 2,
            "linecolor": "white",
            "showbackground": true,
            "ticks": "",
            "zerolinecolor": "white"
           },
           "zaxis": {
            "backgroundcolor": "#E5ECF6",
            "gridcolor": "white",
            "gridwidth": 2,
            "linecolor": "white",
            "showbackground": true,
            "ticks": "",
            "zerolinecolor": "white"
           }
          },
          "shapedefaults": {
           "line": {
            "color": "#2a3f5f"
           }
          },
          "ternary": {
           "aaxis": {
            "gridcolor": "white",
            "linecolor": "white",
            "ticks": ""
           },
           "baxis": {
            "gridcolor": "white",
            "linecolor": "white",
            "ticks": ""
           },
           "bgcolor": "#E5ECF6",
           "caxis": {
            "gridcolor": "white",
            "linecolor": "white",
            "ticks": ""
           }
          },
          "title": {
           "x": 0.05
          },
          "xaxis": {
           "automargin": true,
           "gridcolor": "white",
           "linecolor": "white",
           "ticks": "",
           "title": {
            "standoff": 15
           },
           "zerolinecolor": "white",
           "zerolinewidth": 2
          },
          "yaxis": {
           "automargin": true,
           "gridcolor": "white",
           "linecolor": "white",
           "ticks": "",
           "title": {
            "standoff": 15
           },
           "zerolinecolor": "white",
           "zerolinewidth": 2
          }
         }
        },
        "title": {
         "text": "Loss"
        }
       }
      },
      "text/html": [
       "<div>                            <div id=\"cc902122-709b-4aa2-bd4a-6e9317b7178c\" class=\"plotly-graph-div\" style=\"height:525px; width:100%;\"></div>            <script type=\"text/javascript\">                require([\"plotly\"], function(Plotly) {                    window.PLOTLYENV=window.PLOTLYENV || {};                                    if (document.getElementById(\"cc902122-709b-4aa2-bd4a-6e9317b7178c\")) {                    Plotly.newPlot(                        \"cc902122-709b-4aa2-bd4a-6e9317b7178c\",                        [{\"mode\": \"lines\", \"name\": \"train_loss\", \"type\": \"scatter\", \"x\": [0, 1, 2, 3, 4, 5, 6, 7, 8, 9, 10, 11, 12, 13, 14, 15, 16, 17, 18, 19, 20, 21, 22, 23, 24, 25, 26, 27, 28, 29, 30], \"y\": [7.063061237335205, 6.464217662811279, 5.953278064727783, 5.503936767578125, 5.119740962982178, 4.786487102508545, 4.490524768829346, 4.231129169464111, 4.00148868560791, 3.807232618331909, 3.6319172382354736, 3.474769353866577, 3.3323161602020264, 3.213172197341919, 3.092074394226074, 2.994136095046997, 2.9039652347564697, 2.8138389587402344, 2.7381460666656494, 2.6677775382995605, 2.6032025814056396, 2.541002035140991, 2.4799511432647705, 2.418389320373535, 2.3755764961242676, 2.3112781047821045, 2.2692525386810303, 2.217529535293579, 2.1704678535461426, 2.1339352130889893, 2.093134880065918]}, {\"mode\": \"lines\", \"name\": \"val_loss\", \"type\": \"scatter\", \"x\": [0, 1, 2, 3, 4, 5, 6, 7, 8, 9, 10, 11, 12, 13, 14, 15, 16, 17, 18, 19, 20, 21, 22, 23, 24, 25, 26, 27, 28, 29, 30], \"y\": [6.721141338348389, 6.1830339431762695, 5.724231243133545, 5.310221195220947, 4.969552040100098, 4.665159702301025, 4.396031379699707, 4.168429851531982, 3.9708611965179443, 3.798492908477783, 3.6422266960144043, 3.523125171661377, 3.4005587100982666, 3.2923190593719482, 3.219996213912964, 3.138291597366333, 3.0764098167419434, 3.005316734313965, 2.979423761367798, 2.923577308654785, 2.8860538005828857, 2.830939292907715, 2.801332712173462, 2.775876522064209, 2.7289137840270996, 2.702523708343506, 2.7278974056243896, 2.6620728969573975, 2.675142765045166, 2.636965036392212, 2.615135908126831]}],                        {\"shapes\": [{\"line\": {\"color\": \"green\", \"dash\": \"dash\", \"width\": 3}, \"type\": \"line\", \"x0\": 16, \"x1\": 16, \"xref\": \"x\", \"y0\": 0, \"y1\": 1, \"yref\": \"y domain\"}], \"template\": {\"data\": {\"bar\": [{\"error_x\": {\"color\": \"#2a3f5f\"}, \"error_y\": {\"color\": \"#2a3f5f\"}, \"marker\": {\"line\": {\"color\": \"#E5ECF6\", \"width\": 0.5}}, \"type\": \"bar\"}], \"barpolar\": [{\"marker\": {\"line\": {\"color\": \"#E5ECF6\", \"width\": 0.5}}, \"type\": \"barpolar\"}], \"carpet\": [{\"aaxis\": {\"endlinecolor\": \"#2a3f5f\", \"gridcolor\": \"white\", \"linecolor\": \"white\", \"minorgridcolor\": \"white\", \"startlinecolor\": \"#2a3f5f\"}, \"baxis\": {\"endlinecolor\": \"#2a3f5f\", \"gridcolor\": \"white\", \"linecolor\": \"white\", \"minorgridcolor\": \"white\", \"startlinecolor\": \"#2a3f5f\"}, \"type\": \"carpet\"}], \"choropleth\": [{\"colorbar\": {\"outlinewidth\": 0, \"ticks\": \"\"}, \"type\": \"choropleth\"}], \"contour\": [{\"colorbar\": {\"outlinewidth\": 0, \"ticks\": \"\"}, \"colorscale\": [[0.0, \"#0d0887\"], [0.1111111111111111, \"#46039f\"], [0.2222222222222222, \"#7201a8\"], [0.3333333333333333, \"#9c179e\"], [0.4444444444444444, \"#bd3786\"], [0.5555555555555556, \"#d8576b\"], [0.6666666666666666, \"#ed7953\"], [0.7777777777777778, \"#fb9f3a\"], [0.8888888888888888, \"#fdca26\"], [1.0, \"#f0f921\"]], \"type\": \"contour\"}], \"contourcarpet\": [{\"colorbar\": {\"outlinewidth\": 0, \"ticks\": \"\"}, \"type\": \"contourcarpet\"}], \"heatmap\": [{\"colorbar\": {\"outlinewidth\": 0, \"ticks\": \"\"}, \"colorscale\": [[0.0, \"#0d0887\"], [0.1111111111111111, \"#46039f\"], [0.2222222222222222, \"#7201a8\"], [0.3333333333333333, \"#9c179e\"], [0.4444444444444444, \"#bd3786\"], [0.5555555555555556, \"#d8576b\"], [0.6666666666666666, \"#ed7953\"], [0.7777777777777778, \"#fb9f3a\"], [0.8888888888888888, \"#fdca26\"], [1.0, \"#f0f921\"]], \"type\": \"heatmap\"}], \"heatmapgl\": [{\"colorbar\": {\"outlinewidth\": 0, \"ticks\": \"\"}, \"colorscale\": [[0.0, \"#0d0887\"], [0.1111111111111111, \"#46039f\"], [0.2222222222222222, \"#7201a8\"], [0.3333333333333333, \"#9c179e\"], [0.4444444444444444, \"#bd3786\"], [0.5555555555555556, \"#d8576b\"], [0.6666666666666666, \"#ed7953\"], [0.7777777777777778, \"#fb9f3a\"], [0.8888888888888888, \"#fdca26\"], [1.0, \"#f0f921\"]], \"type\": \"heatmapgl\"}], \"histogram\": [{\"marker\": {\"colorbar\": {\"outlinewidth\": 0, \"ticks\": \"\"}}, \"type\": \"histogram\"}], \"histogram2d\": [{\"colorbar\": {\"outlinewidth\": 0, \"ticks\": \"\"}, \"colorscale\": [[0.0, \"#0d0887\"], [0.1111111111111111, \"#46039f\"], [0.2222222222222222, \"#7201a8\"], [0.3333333333333333, \"#9c179e\"], [0.4444444444444444, \"#bd3786\"], [0.5555555555555556, \"#d8576b\"], [0.6666666666666666, \"#ed7953\"], [0.7777777777777778, \"#fb9f3a\"], [0.8888888888888888, \"#fdca26\"], [1.0, \"#f0f921\"]], \"type\": \"histogram2d\"}], \"histogram2dcontour\": [{\"colorbar\": {\"outlinewidth\": 0, \"ticks\": \"\"}, \"colorscale\": [[0.0, \"#0d0887\"], [0.1111111111111111, \"#46039f\"], [0.2222222222222222, \"#7201a8\"], [0.3333333333333333, \"#9c179e\"], [0.4444444444444444, \"#bd3786\"], [0.5555555555555556, \"#d8576b\"], [0.6666666666666666, \"#ed7953\"], [0.7777777777777778, \"#fb9f3a\"], [0.8888888888888888, \"#fdca26\"], [1.0, \"#f0f921\"]], \"type\": \"histogram2dcontour\"}], \"mesh3d\": [{\"colorbar\": {\"outlinewidth\": 0, \"ticks\": \"\"}, \"type\": \"mesh3d\"}], \"parcoords\": [{\"line\": {\"colorbar\": {\"outlinewidth\": 0, \"ticks\": \"\"}}, \"type\": \"parcoords\"}], \"pie\": [{\"automargin\": true, \"type\": \"pie\"}], \"scatter\": [{\"marker\": {\"colorbar\": {\"outlinewidth\": 0, \"ticks\": \"\"}}, \"type\": \"scatter\"}], \"scatter3d\": [{\"line\": {\"colorbar\": {\"outlinewidth\": 0, \"ticks\": \"\"}}, \"marker\": {\"colorbar\": {\"outlinewidth\": 0, \"ticks\": \"\"}}, \"type\": \"scatter3d\"}], \"scattercarpet\": [{\"marker\": {\"colorbar\": {\"outlinewidth\": 0, \"ticks\": \"\"}}, \"type\": \"scattercarpet\"}], \"scattergeo\": [{\"marker\": {\"colorbar\": {\"outlinewidth\": 0, \"ticks\": \"\"}}, \"type\": \"scattergeo\"}], \"scattergl\": [{\"marker\": {\"colorbar\": {\"outlinewidth\": 0, \"ticks\": \"\"}}, \"type\": \"scattergl\"}], \"scattermapbox\": [{\"marker\": {\"colorbar\": {\"outlinewidth\": 0, \"ticks\": \"\"}}, \"type\": \"scattermapbox\"}], \"scatterpolar\": [{\"marker\": {\"colorbar\": {\"outlinewidth\": 0, \"ticks\": \"\"}}, \"type\": \"scatterpolar\"}], \"scatterpolargl\": [{\"marker\": {\"colorbar\": {\"outlinewidth\": 0, \"ticks\": \"\"}}, \"type\": \"scatterpolargl\"}], \"scatterternary\": [{\"marker\": {\"colorbar\": {\"outlinewidth\": 0, \"ticks\": \"\"}}, \"type\": \"scatterternary\"}], \"surface\": [{\"colorbar\": {\"outlinewidth\": 0, \"ticks\": \"\"}, \"colorscale\": [[0.0, \"#0d0887\"], [0.1111111111111111, \"#46039f\"], [0.2222222222222222, \"#7201a8\"], [0.3333333333333333, \"#9c179e\"], [0.4444444444444444, \"#bd3786\"], [0.5555555555555556, \"#d8576b\"], [0.6666666666666666, \"#ed7953\"], [0.7777777777777778, \"#fb9f3a\"], [0.8888888888888888, \"#fdca26\"], [1.0, \"#f0f921\"]], \"type\": \"surface\"}], \"table\": [{\"cells\": {\"fill\": {\"color\": \"#EBF0F8\"}, \"line\": {\"color\": \"white\"}}, \"header\": {\"fill\": {\"color\": \"#C8D4E3\"}, \"line\": {\"color\": \"white\"}}, \"type\": \"table\"}]}, \"layout\": {\"annotationdefaults\": {\"arrowcolor\": \"#2a3f5f\", \"arrowhead\": 0, \"arrowwidth\": 1}, \"autotypenumbers\": \"strict\", \"coloraxis\": {\"colorbar\": {\"outlinewidth\": 0, \"ticks\": \"\"}}, \"colorscale\": {\"diverging\": [[0, \"#8e0152\"], [0.1, \"#c51b7d\"], [0.2, \"#de77ae\"], [0.3, \"#f1b6da\"], [0.4, \"#fde0ef\"], [0.5, \"#f7f7f7\"], [0.6, \"#e6f5d0\"], [0.7, \"#b8e186\"], [0.8, \"#7fbc41\"], [0.9, \"#4d9221\"], [1, \"#276419\"]], \"sequential\": [[0.0, \"#0d0887\"], [0.1111111111111111, \"#46039f\"], [0.2222222222222222, \"#7201a8\"], [0.3333333333333333, \"#9c179e\"], [0.4444444444444444, \"#bd3786\"], [0.5555555555555556, \"#d8576b\"], [0.6666666666666666, \"#ed7953\"], [0.7777777777777778, \"#fb9f3a\"], [0.8888888888888888, \"#fdca26\"], [1.0, \"#f0f921\"]], \"sequentialminus\": [[0.0, \"#0d0887\"], [0.1111111111111111, \"#46039f\"], [0.2222222222222222, \"#7201a8\"], [0.3333333333333333, \"#9c179e\"], [0.4444444444444444, \"#bd3786\"], [0.5555555555555556, \"#d8576b\"], [0.6666666666666666, \"#ed7953\"], [0.7777777777777778, \"#fb9f3a\"], [0.8888888888888888, \"#fdca26\"], [1.0, \"#f0f921\"]]}, \"colorway\": [\"#636efa\", \"#EF553B\", \"#00cc96\", \"#ab63fa\", \"#FFA15A\", \"#19d3f3\", \"#FF6692\", \"#B6E880\", \"#FF97FF\", \"#FECB52\"], \"font\": {\"color\": \"#2a3f5f\"}, \"geo\": {\"bgcolor\": \"white\", \"lakecolor\": \"white\", \"landcolor\": \"#E5ECF6\", \"showlakes\": true, \"showland\": true, \"subunitcolor\": \"white\"}, \"hoverlabel\": {\"align\": \"left\"}, \"hovermode\": \"closest\", \"mapbox\": {\"style\": \"light\"}, \"paper_bgcolor\": \"white\", \"plot_bgcolor\": \"#E5ECF6\", \"polar\": {\"angularaxis\": {\"gridcolor\": \"white\", \"linecolor\": \"white\", \"ticks\": \"\"}, \"bgcolor\": \"#E5ECF6\", \"radialaxis\": {\"gridcolor\": \"white\", \"linecolor\": \"white\", \"ticks\": \"\"}}, \"scene\": {\"xaxis\": {\"backgroundcolor\": \"#E5ECF6\", \"gridcolor\": \"white\", \"gridwidth\": 2, \"linecolor\": \"white\", \"showbackground\": true, \"ticks\": \"\", \"zerolinecolor\": \"white\"}, \"yaxis\": {\"backgroundcolor\": \"#E5ECF6\", \"gridcolor\": \"white\", \"gridwidth\": 2, \"linecolor\": \"white\", \"showbackground\": true, \"ticks\": \"\", \"zerolinecolor\": \"white\"}, \"zaxis\": {\"backgroundcolor\": \"#E5ECF6\", \"gridcolor\": \"white\", \"gridwidth\": 2, \"linecolor\": \"white\", \"showbackground\": true, \"ticks\": \"\", \"zerolinecolor\": \"white\"}}, \"shapedefaults\": {\"line\": {\"color\": \"#2a3f5f\"}}, \"ternary\": {\"aaxis\": {\"gridcolor\": \"white\", \"linecolor\": \"white\", \"ticks\": \"\"}, \"baxis\": {\"gridcolor\": \"white\", \"linecolor\": \"white\", \"ticks\": \"\"}, \"bgcolor\": \"#E5ECF6\", \"caxis\": {\"gridcolor\": \"white\", \"linecolor\": \"white\", \"ticks\": \"\"}}, \"title\": {\"x\": 0.05}, \"xaxis\": {\"automargin\": true, \"gridcolor\": \"white\", \"linecolor\": \"white\", \"ticks\": \"\", \"title\": {\"standoff\": 15}, \"zerolinecolor\": \"white\", \"zerolinewidth\": 2}, \"yaxis\": {\"automargin\": true, \"gridcolor\": \"white\", \"linecolor\": \"white\", \"ticks\": \"\", \"title\": {\"standoff\": 15}, \"zerolinecolor\": \"white\", \"zerolinewidth\": 2}}}, \"title\": {\"text\": \"Loss\"}},                        {\"responsive\": true}                    ).then(function(){\n",
       "                            \n",
       "var gd = document.getElementById('cc902122-709b-4aa2-bd4a-6e9317b7178c');\n",
       "var x = new MutationObserver(function (mutations, observer) {{\n",
       "        var display = window.getComputedStyle(gd).display;\n",
       "        if (!display || display === 'none') {{\n",
       "            console.log([gd, 'removed!']);\n",
       "            Plotly.purge(gd);\n",
       "            observer.disconnect();\n",
       "        }}\n",
       "}});\n",
       "\n",
       "// Listen for the removal of the full notebook cells\n",
       "var notebookContainer = gd.closest('#notebook-container');\n",
       "if (notebookContainer) {{\n",
       "    x.observe(notebookContainer, {childList: true});\n",
       "}}\n",
       "\n",
       "// Listen for the clearing of the current output cell\n",
       "var outputEl = gd.closest('.output');\n",
       "if (outputEl) {{\n",
       "    x.observe(outputEl, {childList: true});\n",
       "}}\n",
       "\n",
       "                        })                };                });            </script>        </div>"
      ]
     },
     "metadata": {},
     "output_type": "display_data"
    }
   ],
   "source": [
    "## Loss function\n",
    "trace = go.Scatter(x = np.arange(len(history.history[\"loss\"])), y= history.history[\"loss\"], mode=\"lines\", name=\"train_loss\")\n",
    "trace2 = go.Scatter(x = np.arange(len(history.history[\"val_loss\"])), y= history.history[\"val_loss\"], mode=\"lines\", name=\"val_loss\")\n",
    "fig = go.Figure()\n",
    "fig.add_traces([trace, trace2])\n",
    "fig.add_vline(x=16, line_width=3, line_dash=\"dash\", line_color=\"green\")\n",
    "fig.update_layout(dict(title= \"Loss\"))\n",
    "fig.show()"
   ]
  },
  {
   "cell_type": "code",
   "execution_count": 19,
   "metadata": {},
   "outputs": [
    {
     "name": "stdout",
     "output_type": "stream",
     "text": [
      "Train Metrics\n",
      "WARNING:tensorflow:From <ipython-input-19-416bced45783>:7: Sequential.predict_classes (from tensorflow.python.keras.engine.sequential) is deprecated and will be removed after 2021-01-01.\n",
      "Instructions for updating:\n",
      "Please use instead:* `np.argmax(model.predict(x), axis=-1)`,   if your model does multi-class classification   (e.g. if it uses a `softmax` last-layer activation).* `(model.predict(x) > 0.5).astype(\"int32\")`,   if your model does binary classification   (e.g. if it uses a `sigmoid` last-layer activation).\n",
      "              precision    recall  f1-score   support\n",
      "\n",
      "           0       0.64      0.85      0.73      2398\n",
      "           1       0.63      0.86      0.73      2732\n",
      "           2       0.93      0.18      0.30      1162\n",
      "           3       0.95      0.29      0.44      1226\n",
      "\n",
      "    accuracy                           0.66      7518\n",
      "   macro avg       0.79      0.54      0.55      7518\n",
      "weighted avg       0.73      0.66      0.62      7518\n",
      "\n"
     ]
    }
   ],
   "source": [
    "## Train Accuracy\n",
    "print('Train Metrics')\n",
    "## best model \n",
    "model.load_weights(check_path)\n",
    "\n",
    "## model accuracy\n",
    "print(classification_report(artist_categorical_train.argmax(axis=1), model.predict_classes(spectrograms_train.reshape(-1,size,size,3))))"
   ]
  },
  {
   "cell_type": "code",
   "execution_count": 20,
   "metadata": {},
   "outputs": [
    {
     "name": "stdout",
     "output_type": "stream",
     "text": [
      "Test Metrics\n",
      "              precision    recall  f1-score   support\n",
      "\n",
      "           0       1.00      0.80      0.89        10\n",
      "           1       0.52      1.00      0.69        11\n",
      "           2       1.00      0.25      0.40         4\n",
      "           3       0.00      0.00      0.00         5\n",
      "\n",
      "    accuracy                           0.67        30\n",
      "   macro avg       0.63      0.51      0.49        30\n",
      "weighted avg       0.66      0.67      0.60        30\n",
      "\n"
     ]
    }
   ],
   "source": [
    "## Train Accuracy\n",
    "print('Test Metrics')\n",
    "## model accuracy\n",
    "print(classification_report(artist_categorical_test.argmax(axis=1), model.predict_classes(spectrograms_test.reshape(-1,size,size,3))))"
   ]
  }
 ],
 "metadata": {
  "kernelspec": {
   "display_name": "Python 3",
   "language": "python",
   "name": "python3"
  },
  "language_info": {
   "codemirror_mode": {
    "name": "ipython",
    "version": 3
   },
   "file_extension": ".py",
   "mimetype": "text/x-python",
   "name": "python",
   "nbconvert_exporter": "python",
   "pygments_lexer": "ipython3",
   "version": "3.8.5"
  }
 },
 "nbformat": 4,
 "nbformat_minor": 4
}
